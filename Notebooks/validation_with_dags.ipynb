{
  "nbformat": 4,
  "nbformat_minor": 0,
  "metadata": {
    "colab": {
      "provenance": [],
      "toc_visible": true
    },
    "kernelspec": {
      "name": "python3",
      "display_name": "Python 3"
    },
    "language_info": {
      "name": "python"
    }
  },
  "cells": [
    {
      "cell_type": "markdown",
      "source": [
        "# Validation with DAGs"
      ],
      "metadata": {
        "id": "o3SgmHVt4fE6"
      }
    },
    {
      "cell_type": "markdown",
      "source": [
        "Candidate DAGs\n",
        "1. **Constraint-based**\n",
        "  - **DAG**: [('PEG', 'HSPC'), ('PEG', 'FRR'), ('PEG', 'ESM'), ('PEG', 'SIZE'), ('PEG', 'TFR'), ('PEG', 'PDI'), ('PEG', 'CHOL'), ('HSPC', 'FRR'), ('HSPC', 'ESM'), ('HSPC', 'SIZE'), ('HSPC', 'TFR'), ('HSPC', 'PDI'), ('HSPC', 'CHOL'), ('AQUEOUS', 'HSPC'), ('AQUEOUS', 'FRR'), ('AQUEOUS', 'ESM'), ('AQUEOUS', 'SIZE'), ('AQUEOUS', 'TFR'), ('AQUEOUS', 'PDI'), ('AQUEOUS', 'CHOL'), ('FRR', 'ESM'), ('FRR', 'SIZE'), ('FRR', 'TFR'), ('FRR', 'PDI'), ('FRR', 'CHOL'), ('ESM', 'SIZE'), ('ESM', 'TFR'), ('ESM', 'PDI'), ('ESM', 'CHOL'), ('SIZE', 'TFR'), ('SIZE', 'PDI'), ('SIZE', 'CHOL'), ('TFR', 'PDI'), ('TFR', 'CHOL'), ('PDI', 'CHOL')]\n",
        "  - **DAG**: [('HSPC', 'PEG'), ('HSPC', 'FRR'), ('HSPC', 'ESM'), ('HSPC', 'SIZE'), ('HSPC', 'TFR'), ('HSPC', 'PDI'), ('HSPC', 'CHOL'), ('PEG', 'AQUEOUS'), ('PEG', 'FRR'), ('PEG', 'ESM'), ('PEG', 'SIZE'), ('PEG', 'TFR'), ('PEG', 'PDI'), ('PEG', 'CHOL'), ('AQUEOUS', 'FRR'), ('AQUEOUS', 'ESM'), ('AQUEOUS', 'SIZE'), ('AQUEOUS', 'TFR'), ('AQUEOUS', 'PDI'), ('AQUEOUS', 'CHOL'), ('FRR', 'ESM'), ('FRR', 'SIZE'), ('FRR', 'TFR'), ('FRR', 'PDI'), ('FRR', 'CHOL'), ('ESM', 'SIZE'), ('ESM', 'TFR'), ('ESM', 'PDI'), ('ESM', 'CHOL'), ('SIZE', 'TFR'), ('SIZE', 'PDI'), ('SIZE', 'CHOL'), ('TFR', 'PDI'), ('TFR', 'CHOL'), ('PDI', 'CHOL')]\n",
        "  - **DAG**: [('ESM', 'HSPC'), ('ESM', 'FRR'), ('ESM', 'SIZE'), ('ESM', 'TFR'), ('ESM', 'PDI'), ('ESM', 'AQUEOUS'), ('ESM', 'CHOL'), ('HSPC', 'PEG'), ('HSPC', 'FRR'), ('HSPC', 'SIZE'), ('HSPC', 'TFR'), ('HSPC', 'PDI'), ('HSPC', 'CHOL'), ('PEG', 'FRR'), ('PEG', 'SIZE'), ('PEG', 'TFR'), ('PEG', 'PDI'), ('PEG', 'AQUEOUS'), ('PEG', 'CHOL'), ('FRR', 'SIZE'), ('FRR', 'TFR'), ('FRR', 'PDI'), ('FRR', 'AQUEOUS'), ('FRR', 'CHOL'), ('SIZE', 'TFR'), ('SIZE', 'PDI'), ('SIZE', 'AQUEOUS'), ('SIZE', 'CHOL'), ('TFR', 'PDI'), ('TFR', 'AQUEOUS'), ('TFR', 'CHOL'), ('PDI', 'AQUEOUS'), ('PDI', 'CHOL'), ('AQUEOUS', 'CHOL')]\n",
        "2. **Controlled expansion**:\n",
        "  - **DAG**: [('PEG', 'HSPC'), ('AQUEOUS', 'HSPC'), ('AQUEOUS', 'FRR'), ('FRR', 'ESM'), ('FRR', 'SIZE')]\n",
        "  - **DAG**: [('HSPC', 'PEG'), ('PEG', 'AQUEOUS'), ('AQUEOUS', 'FRR'), ('FRR', 'ESM'), ('FRR', 'SIZE')]\n",
        "  - **DAG**: [('ESM', 'HSPC'), ('HSPC', 'PEG'), ('HSPC', 'FRR'), ('FRR', 'SIZE'), ('FRR', 'TFR')]\n",
        "\n",
        "3. **Merging**\n",
        "  - **DAG**: [('ESM', 'HSPC'), ('HSPC', 'PEG'), ('AQUEOUS', 'HSPC')]\n",
        "  - **DAG**: [('ESM', 'HSPC'), ('HSPC', 'PEG'), ('PEG', 'AQUEOUS')]\n",
        "  - **DAG**: [('ESM', 'HSPC'),('ESM', 'PEG'),('HSPC', 'PEG'),\n",
        "   ('HSPC', 'AQUEOUS'),('PEG', 'AQUEOUS')]\n",
        "\n",
        "4. **Global**\n",
        "  - **DAG**: [('PEG', 'HSPC'), ('AQUEOUS', 'HSPC'), ('ESM', 'SIZE'), ('CHOL', 'PDI'), ('HSPC', 'PDI'), ('PEG', 'FRR'), ('AQUEOUS', 'SIZE'), ('HSPC', 'ESM'), ('AQUEOUS', 'TFR'), ('PEG', 'TFR'), ('AQUEOUS', 'FRR'), ('SIZE', 'PDI'), ('CHOL', 'ESM'), ('AQUEOUS', 'PEG'), ('CHOL', 'PEG'), ('FRR', 'SIZE'), ('SIZE', 'TFR'), ('CHOL', 'FRR'), ('AQUEOUS', 'CHOL')]\n",
        "\n",
        "\n",
        "\n",
        "\n"
      ],
      "metadata": {
        "id": "a884lbYa4jib"
      }
    },
    {
      "cell_type": "markdown",
      "source": [
        "## Setup"
      ],
      "metadata": {
        "id": "7eJ5MoU16jFJ"
      }
    },
    {
      "cell_type": "code",
      "execution_count": null,
      "metadata": {
        "id": "4aAaK51v4Us9"
      },
      "outputs": [],
      "source": [
        "!git clone https://github.com/leonardoLavagna/Intelligent-Control-of-Microfluidic-Systems"
      ]
    },
    {
      "cell_type": "code",
      "source": [
        "import os\n",
        "os.chdir(\"Intelligent-Control-of-Microfluidic-Systems\")\n",
        "!pip install -r requirements.txt"
      ],
      "metadata": {
        "id": "pzMy5BR86wgV"
      },
      "execution_count": null,
      "outputs": []
    },
    {
      "cell_type": "code",
      "source": [
        "!pip install networkx causalgraphicalmodels dowhy shap"
      ],
      "metadata": {
        "id": "l1ST2Lzg73X9"
      },
      "execution_count": null,
      "outputs": []
    },
    {
      "cell_type": "markdown",
      "source": [
        "## Dataset"
      ],
      "metadata": {
        "id": "YTAmpbO868Jq"
      }
    },
    {
      "cell_type": "code",
      "source": [
        "import pandas as pd\n",
        "\n",
        "df = pd.read_csv(\"Data/data_1.csv\")\n",
        "#df.head()"
      ],
      "metadata": {
        "id": "qIoVI60n60EX"
      },
      "execution_count": 4,
      "outputs": []
    },
    {
      "cell_type": "markdown",
      "source": [
        "## Model"
      ],
      "metadata": {
        "id": "hRPhY1NF7gEY"
      }
    },
    {
      "cell_type": "code",
      "source": [
        "import pickle\n",
        "\n",
        "model_path = \"_Models/best_refined_model_size_pdi.pkl\"\n",
        "with open(model_path, \"rb\") as f:\n",
        "    model_ = pickle.load(f)\n",
        "print(type(model_))\n",
        "print(model_.keys() if isinstance(model_, dict) else dir(model_))"
      ],
      "metadata": {
        "colab": {
          "base_uri": "https://localhost:8080/"
        },
        "id": "JK6qDZII6-Us",
        "outputId": "0cb20fec-ecc2-4b45-b0f7-14324e66cea4"
      },
      "execution_count": 5,
      "outputs": [
        {
          "output_type": "stream",
          "name": "stdout",
          "text": [
            "<class 'dict'>\n",
            "dict_keys(['rf_model', 'xgb_size', 'xgb_pdi'])\n"
          ]
        },
        {
          "output_type": "stream",
          "name": "stderr",
          "text": [
            "/tmp/ipython-input-1198617881.py:5: UserWarning: [07:18:38] WARNING: /workspace/src/collective/../data/../common/error_msg.h:82: If you are loading a serialized model (like pickle in Python, RDS in R) or\n",
            "configuration generated by an older version of XGBoost, please export the model by calling\n",
            "`Booster.save_model` from that version first, then load it back in current version. See:\n",
            "\n",
            "    https://xgboost.readthedocs.io/en/stable/tutorials/saving_model.html\n",
            "\n",
            "for more details about differences between saving model and serializing.\n",
            "\n",
            "  model_ = pickle.load(f)\n"
          ]
        }
      ]
    },
    {
      "cell_type": "code",
      "source": [
        "model = model_[\"rf_model\"]"
      ],
      "metadata": {
        "id": "h5t9vIKICq6f"
      },
      "execution_count": 6,
      "outputs": []
    },
    {
      "cell_type": "markdown",
      "source": [
        "## DAG"
      ],
      "metadata": {
        "id": "fxs558Fv8uwt"
      }
    },
    {
      "cell_type": "code",
      "source": [
        "import networkx as nx\n",
        "\n",
        "edges = [\n",
        "    ('PEG', 'HSPC'),\n",
        "    ('AQUEOUS', 'HSPC'),\n",
        "    ('ESM', 'SIZE'),\n",
        "    ('CHOL', 'PDI'),\n",
        "    ('HSPC', 'PDI'),\n",
        "    ('PEG', 'FRR'),\n",
        "    ('AQUEOUS', 'SIZE'),\n",
        "    ('HSPC', 'ESM'),\n",
        "    ('AQUEOUS', 'TFR'),\n",
        "    ('PEG', 'TFR'),\n",
        "    ('AQUEOUS', 'FRR'),\n",
        "    ('SIZE', 'PDI'),\n",
        "    ('CHOL', 'ESM'),\n",
        "    ('AQUEOUS', 'PEG'),\n",
        "    ('CHOL', 'PEG'),\n",
        "    ('FRR', 'SIZE'),\n",
        "    ('SIZE', 'TFR'),\n",
        "    ('CHOL', 'FRR'),\n",
        "    ('AQUEOUS', 'CHOL')\n",
        "]\n",
        "\n",
        "G = nx.DiGraph()\n",
        "G.add_edges_from(edges)\n",
        "#print(nx.is_directed_acyclic_graph(G))\n",
        "#print(G.nodes())\n",
        "#print(G.edges())"
      ],
      "metadata": {
        "id": "2JaMMdSJ8vnu"
      },
      "execution_count": 7,
      "outputs": []
    },
    {
      "cell_type": "code",
      "source": [
        "import matplotlib.pyplot as plt\n",
        "\n",
        "plt.figure(figsize=(8,6))\n",
        "pos = nx.spring_layout(G, seed=42)\n",
        "nx.draw(G, pos, with_labels=True, node_color=\"lightblue\", node_size=2000, arrowsize=20, font_size=10)\n",
        "plt.show()"
      ],
      "metadata": {
        "colab": {
          "base_uri": "https://localhost:8080/",
          "height": 611
        },
        "id": "wNrniP-L8_TG",
        "outputId": "f7c9e420-61c1-4075-ffc8-008c3d51172b"
      },
      "execution_count": 8,
      "outputs": [
        {
          "output_type": "display_data",
          "data": {
            "text/plain": [
              "<Figure size 800x600 with 1 Axes>"
            ],
            "image/png": "[encoded data removed]"
          },
          "metadata": {}
        }
      ]
    },
    {
      "cell_type": "markdown",
      "source": [
        "## Model validation with the DAG"
      ],
      "metadata": {
        "id": "F0natuBn9ZS9"
      }
    },
    {
      "cell_type": "markdown",
      "source": [
        "**Pipeline**\n",
        "- The DAG encodes the \"ground truth\", in particular it shows which paths are causal and which are spurious\n",
        "- Adjustment sets show the \"recipe\" to estimate causal effects from data (e.g. if PEG->PDI has no valid adjustment set or has effect ~0 after adjustment then any strong dependence between the two variables in the trained model is spurious\n",
        "- We can then estimate the causal effect of X on Y using the DAG on the dataset and measure the model sensitivity to X (by small perturbations). We can also stress-test spurious paths by taking a node that is forbidden to adjust for (e.g. a collider), shuffle it within its parents (so that causal structure is preserved) and check if prediction \"collapse\".\n",
        "- The trained model is \"valid wrt the DAG\" of its predictive behaviour changes primarily along true causal paths, it does not collapse wehn we break spurious correlations or forbidden paths and the estimated model sensitivity roughly matches the causal effects implied by the DAG.\n",
        "\n",
        "**Note:** A model can have high predictive accuracy yet be not valid in a causal sense."
      ],
      "metadata": {
        "id": "EaHowXWO-mIB"
      }
    },
    {
      "cell_type": "markdown",
      "source": [
        "### Convert DAG to causal model"
      ],
      "metadata": {
        "id": "DEyseRv49mBU"
      }
    },
    {
      "cell_type": "code",
      "source": [
        "import collections\n",
        "import collections.abc\n",
        "collections.Iterable = collections.abc.Iterable\n",
        "from causalgraphicalmodels import CausalGraphicalModel\n",
        "\n",
        "CGM = CausalGraphicalModel(\n",
        "    nodes=list(G.nodes),\n",
        "    edges=list(G.edges)\n",
        ")\n",
        "#print(\"Is DAG:\", nx.is_directed_acyclic_graph(G))"
      ],
      "metadata": {
        "id": "PywZS3k19Oek"
      },
      "execution_count": 9,
      "outputs": []
    },
    {
      "cell_type": "markdown",
      "source": [
        "### Globals"
      ],
      "metadata": {
        "id": "kQ4N0n2eJCQz"
      }
    },
    {
      "cell_type": "code",
      "source": [
        "from sklearn.compose import ColumnTransformer\n",
        "from sklearn.preprocessing import OneHotEncoder\n",
        "from sklearn.pipeline import Pipeline as SkPipeline\n",
        "import numpy as np"
      ],
      "metadata": {
        "id": "wkjIrqPnJJVL"
      },
      "execution_count": 10,
      "outputs": []
    },
    {
      "cell_type": "code",
      "source": [
        "from typing import List, Sequence, Tuple"
      ],
      "metadata": {
        "id": "mtuRdDbDKXz6"
      },
      "execution_count": 11,
      "outputs": []
    },
    {
      "cell_type": "code",
      "source": [
        "_rng = np.random.default_rng(0)\n",
        "\n",
        "TARGETS = [\"SIZE\", \"PDI\"]\n",
        "\n",
        "FEATURE_COLS = [c for c in df.columns if c not in TARGETS]\n",
        "_df_feat = df[FEATURE_COLS].copy()\n",
        "\n",
        "CATEGORICAL_COLS = [\n",
        "    c for c in _df_feat.columns\n",
        "    if pd.api.types.is_object_dtype(_df_feat[c])\n",
        "    or pd.api.types.is_categorical_dtype(_df_feat[c])\n",
        "    or pd.api.types.is_bool_dtype(_df_feat[c])\n",
        "]\n",
        "\n",
        "NUMERIC_COLS = [c for c in _df_feat.columns if c not in CATEGORICAL_COLS]"
      ],
      "metadata": {
        "colab": {
          "base_uri": "https://localhost:8080/"
        },
        "id": "WNWPrJuh9pvF",
        "outputId": "3a414a84-8f7c-4bff-e211-14af7755b085"
      },
      "execution_count": 12,
      "outputs": [
        {
          "output_type": "stream",
          "name": "stderr",
          "text": [
            "/tmp/ipython-input-1027952458.py:11: DeprecationWarning: is_categorical_dtype is deprecated and will be removed in a future version. Use isinstance(dtype, pd.CategoricalDtype) instead\n",
            "  or pd.api.types.is_categorical_dtype(_df_feat[c])\n"
          ]
        }
      ]
    },
    {
      "cell_type": "code",
      "source": [
        "IS_PIPELINE = isinstance(model, SkPipeline)\n",
        "TRANSFORMER = None\n",
        "if not IS_PIPELINE:\n",
        "    try:\n",
        "        ohe = OneHotEncoder(handle_unknown=\"ignore\", sparse_output=False)\n",
        "    except TypeError:\n",
        "        ohe = OneHotEncoder(handle_unknown=\"ignore\", sparse=False)\n",
        "    TRANSFORMER = ColumnTransformer(\n",
        "        transformers=[\n",
        "            (\"num\", \"passthrough\", NUMERIC_COLS),\n",
        "            (\"cat\", ohe, CATEGORICAL_COLS),\n",
        "        ],\n",
        "        remainder=\"drop\"\n",
        "    ).fit(_df_feat)"
      ],
      "metadata": {
        "id": "WrdNYL2rB8CK"
      },
      "execution_count": 13,
      "outputs": []
    },
    {
      "cell_type": "markdown",
      "source": [
        "### Auxiliaries"
      ],
      "metadata": {
        "id": "hA-vsUbyJAZr"
      }
    },
    {
      "cell_type": "code",
      "source": [
        "def transform_for_model(D: pd.DataFrame):\n",
        "    \"\"\"Prepare features for prediction.\n",
        "\n",
        "    Args:\n",
        "        D (pd.DataFrame): Input DataFrame.\n",
        "\n",
        "    Returns:\n",
        "        np.ndarray or pd.DataFrame: Transformed feature matrix.\n",
        "    \"\"\"\n",
        "    X = D[FEATURE_COLS]\n",
        "    return X if IS_PIPELINE else TRANSFORMER.transform(X)\n",
        "\n",
        "\n",
        "def predict_any(m, D: pd.DataFrame) -> np.ndarray:\n",
        "    \"\"\"Predict outputs using a model.\n",
        "\n",
        "    Args:\n",
        "        m: Trained model with predict/predict_proba methods.\n",
        "        D (pd.DataFrame): Input DataFrame.\n",
        "\n",
        "    Returns:\n",
        "        np.ndarray: Model predictions or probabilities.\n",
        "    \"\"\"\n",
        "    Xmat = transform_for_model(D)\n",
        "    try:\n",
        "        proba = m.predict_proba(Xmat)\n",
        "        proba = np.asarray(proba)\n",
        "        if proba.ndim == 2 and proba.shape[1] >= 2:\n",
        "            return proba[:, 1].astype(float)\n",
        "        return proba.astype(float)\n",
        "    except Exception:\n",
        "        pass\n",
        "    pred = m.predict(Xmat)\n",
        "    return np.asarray(pred, dtype=float)"
      ],
      "metadata": {
        "id": "712efnjMDVWY"
      },
      "execution_count": 14,
      "outputs": []
    },
    {
      "cell_type": "code",
      "source": [
        "def parents(G: nx.DiGraph, n: str) -> List[str]:\n",
        "    \"\"\"Get observed parents of a node.\n",
        "\n",
        "    Args:\n",
        "        G (nx.DiGraph): DAG.\n",
        "        n (str): Node name.\n",
        "\n",
        "    Returns:\n",
        "        List[str]: Parent nodes present in df.\n",
        "    \"\"\"\n",
        "    return [p for p in G.predecessors(n) if p in df.columns]\n",
        "\n",
        "\n",
        "def all_backdoor_sets_observed(X: str, Y: str, observed_cols: set) -> List[frozenset]:\n",
        "    \"\"\"Find valid backdoor sets limited to observed columns.\n",
        "\n",
        "    Args:\n",
        "        X (str): Treatment variable.\n",
        "        Y (str): Outcome variable.\n",
        "        observed_cols (set): Columns available in data.\n",
        "\n",
        "    Returns:\n",
        "        List[frozenset]: Valid adjustment sets.\n",
        "    \"\"\"\n",
        "    sets = CGM.get_all_backdoor_adjustment_sets(X, Y) or set()\n",
        "    filt = [frozenset(s) for s in sets if s.issubset(observed_cols) and X not in s and Y not in s]\n",
        "    return sorted(set(filt), key=lambda s: (len(s), list(sorted(s))))\n",
        "\n",
        "\n",
        "def pick_minimal_set(sets: Sequence[frozenset]) -> List[str]:\n",
        "    \"\"\"Pick the smallest valid adjustment set.\n",
        "\n",
        "    Args:\n",
        "        sets (Sequence[frozenset]): Candidate sets.\n",
        "\n",
        "    Returns:\n",
        "        List[str]: Minimal adjustment set, or empty if none.\n",
        "    \"\"\"\n",
        "    return list(sorted(sets[0])) if sets else []"
      ],
      "metadata": {
        "id": "pILi7tQoJhmw"
      },
      "execution_count": 15,
      "outputs": []
    },
    {
      "cell_type": "code",
      "source": [
        "def estimate_effect_adjusted(df: pd.DataFrame, X: str, Y: str, Z: List[str]) -> Tuple[float, str]:\n",
        "    \"\"\"Estimate causal effect of X on Y with adjustment.\n",
        "\n",
        "    Fits an OLS model if Y is numeric or a logistic model if Y is binary.\n",
        "    For categorical X, returns the sum of absolute dummy coefficients.\n",
        "\n",
        "    Args:\n",
        "        df (pd.DataFrame): Input data.\n",
        "        X (str): Treatment variable.\n",
        "        Y (str): Outcome variable.\n",
        "        Z (List[str]): Adjustment variables.\n",
        "\n",
        "    Returns:\n",
        "        Tuple[float, str]: Estimated effect and method used.\n",
        "    \"\"\"\n",
        "    cols = [c for c in [Y, X] + Z if c in df.columns]\n",
        "    data = df[cols].dropna()\n",
        "    if len(data) < 30:\n",
        "        return (np.nan, \"insufficient_data\")\n",
        "\n",
        "    y = data[Y]\n",
        "    XZ = pd.get_dummies(data[[X] + Z], drop_first=True)\n",
        "\n",
        "    if X in XZ.columns:\n",
        "        x_cols = [X]\n",
        "    else:\n",
        "        x_cols = [c for c in XZ.columns if c.startswith(f\"{X}_\")]\n",
        "        if not x_cols:\n",
        "            return (np.nan, \"x_not_in_design_matrix\")\n",
        "\n",
        "    try:\n",
        "        import statsmodels.api as sm\n",
        "        XZ_sm = sm.add_constant(XZ, has_constant=\"add\")\n",
        "        if pd.api.types.is_numeric_dtype(y):\n",
        "            model_sm = sm.OLS(y, XZ_sm).fit()\n",
        "            eff = (float(model_sm.params.get(x_cols[0], np.nan)) if len(x_cols) == 1\n",
        "                   else float(np.sum(np.abs([model_sm.params.get(c, 0.0) for c in x_cols]))))\n",
        "            return (eff, \"statsmodels_ols\")\n",
        "        else:\n",
        "            y_bin = y.astype(\"category\").cat.codes\n",
        "            model_sm = sm.Logit(y_bin, XZ_sm).fit(disp=False)\n",
        "            eff = (float(model_sm.params.get(x_cols[0], np.nan)) if len(x_cols) == 1\n",
        "                   else float(np.sum(np.abs([model_sm.params.get(c, 0.0) for c in x_cols]))))\n",
        "            return (eff, \"statsmodels_logit\")\n",
        "    except Exception:\n",
        "        from sklearn.linear_model import LinearRegression, LogisticRegression\n",
        "        if pd.api.types.is_numeric_dtype(y):\n",
        "            lr = LinearRegression().fit(XZ, y)\n",
        "            coef_map = dict(zip(XZ.columns, lr.coef_))\n",
        "            eff = (float(coef_map.get(x_cols[0], np.nan)) if len(x_cols) == 1\n",
        "                   else float(np.sum(np.abs([coef_map.get(c, 0.0) for c in x_cols]))))\n",
        "            return (eff, \"sklearn_ols\")\n",
        "        else:\n",
        "            y_bin = y.astype(\"category\").cat.codes\n",
        "            clf = LogisticRegression(max_iter=1000).fit(XZ, y_bin)\n",
        "            coef_map = dict(zip(XZ.columns, clf.coef_.ravel()))\n",
        "            eff = (float(coef_map.get(x_cols[0], np.nan)) if len(x_cols) == 1\n",
        "                   else float(np.sum(np.abs([coef_map.get(c, 0.0) for c in x_cols]))))\n",
        "            return (eff, \"sklearn_logit\")"
      ],
      "metadata": {
        "id": "MrKCAwY3JuB6"
      },
      "execution_count": 16,
      "outputs": []
    },
    {
      "cell_type": "code",
      "source": [
        "def probe_values_for_feature(series: pd.Series, max_levels: int = 4) -> List:\n",
        "    \"\"\"Select representative probe values for a feature.\n",
        "\n",
        "    Args:\n",
        "        series (pd.Series): Feature column.\n",
        "        max_levels (int, optional): Max categories to keep for non-numeric. Defaults to 4.\n",
        "\n",
        "    Returns:\n",
        "        List: Numeric quantiles or top categorical values.\n",
        "    \"\"\"\n",
        "    if pd.api.types.is_numeric_dtype(series):\n",
        "        vals = series.dropna().values\n",
        "        if len(vals) == 0:\n",
        "            return []\n",
        "        return list(np.unique(np.quantile(vals, [0.1, 0.5, 0.9])))\n",
        "    else:\n",
        "        vals = series.dropna().value_counts().index.tolist()\n",
        "        return vals[:max_levels]\n",
        "\n",
        "\n",
        "def model_sensitivity_given_Z(m, df: pd.DataFrame, Y: str, X: str, Z: List[str]) -> float:\n",
        "    \"\"\"Compute model sensitivity to X given adjustment set Z.\n",
        "\n",
        "    Args:\n",
        "        m: Trained model with predict/predict_proba.\n",
        "        df (pd.DataFrame): Input data.\n",
        "        Y (str): Outcome variable.\n",
        "        X (str): Feature under test.\n",
        "        Z (List[str]): Adjustment variables.\n",
        "\n",
        "    Returns:\n",
        "        float: Sensitivity as prediction range across probe values.\n",
        "    \"\"\"\n",
        "    base = df.dropna(subset=[c for c in [X] + Z if c in df.columns]).copy()\n",
        "    if base.empty:\n",
        "        return np.nan\n",
        "    probes = probe_values_for_feature(base[X])\n",
        "    if len(probes) <= 1:\n",
        "        return 0.0\n",
        "    means = []\n",
        "    for v in probes:\n",
        "        temp = base.copy()\n",
        "        temp.loc[:, X] = v\n",
        "        preds = predict_any(m, temp)\n",
        "        means.append(float(np.mean(preds)))\n",
        "    return float(np.max(means) - np.min(means))"
      ],
      "metadata": {
        "id": "HfkYnwIyJpb6"
      },
      "execution_count": 17,
      "outputs": []
    },
    {
      "cell_type": "code",
      "source": [
        "def shuffle_within_bins(df: pd.DataFrame, col: str, bin_cols: List[str]) -> pd.DataFrame:\n",
        "    \"\"\"Shuffle a column within groups defined by bin_cols.\n",
        "\n",
        "    Args:\n",
        "        df (pd.DataFrame): Input data.\n",
        "        col (str): Column to shuffle.\n",
        "        bin_cols (List[str]): Columns defining grouping bins.\n",
        "\n",
        "    Returns:\n",
        "        pd.DataFrame: DataFrame with col shuffled within bins.\n",
        "    \"\"\"\n",
        "    out = df.copy()\n",
        "    if not bin_cols:\n",
        "        out.loc[:, col] = _rng.permutation(out[col].values)\n",
        "        return out\n",
        "    for _, g in out.groupby(bin_cols, dropna=False):\n",
        "        idx = g.index\n",
        "        out.loc[idx, col] = _rng.permutation(out.loc[idx, col].values)\n",
        "    return out\n",
        "\n",
        "\n",
        "def shuffle_delta(m, df: pd.DataFrame, Y: str, X: str, parent_cols: List[str]) -> float:\n",
        "    \"\"\"Measure prediction change after shuffling X within its parents.\n",
        "\n",
        "    Args:\n",
        "        m: Trained model with predict/predict_proba.\n",
        "        df (pd.DataFrame): Input data.\n",
        "        Y (str): Outcome variable.\n",
        "        X (str): Feature to shuffle.\n",
        "        parent_cols (List[str]): Parent columns for conditional shuffling.\n",
        "\n",
        "    Returns:\n",
        "        float: Mean absolute change in predictions.\n",
        "    \"\"\"\n",
        "    needed = [c for c in [X] + parent_cols if c in df.columns]\n",
        "    base = df.dropna(subset=needed).copy()\n",
        "    if base.empty:\n",
        "        return np.nan\n",
        "    p0 = predict_any(m, base)\n",
        "    broken = shuffle_within_bins(base, X, parent_cols)\n",
        "    p1 = predict_any(m, broken)\n",
        "    return float(np.mean(np.abs(p0 - p1)))"
      ],
      "metadata": {
        "id": "IeVGj7kXIwOj"
      },
      "execution_count": 18,
      "outputs": []
    },
    {
      "cell_type": "code",
      "source": [
        "def audit_for_target(m, df: pd.DataFrame, G: nx.DiGraph, Y: str) -> pd.DataFrame:\n",
        "    \"\"\"Audit model behavior for a target using a DAG.\n",
        "\n",
        "    Args:\n",
        "        m: Trained model with predict/predict_proba.\n",
        "        df (pd.DataFrame): Input data.\n",
        "        G (nx.DiGraph): Causal DAG.\n",
        "        Y (str): Target variable.\n",
        "\n",
        "    Returns:\n",
        "        pd.DataFrame: Audit results including causal effects,\n",
        "        sensitivities, shuffle deltas, and spurious flags.\n",
        "    \"\"\"\n",
        "    observed = set(df.columns)\n",
        "    features = [c for c in df.columns if c != Y]\n",
        "    rows = []\n",
        "    for X in features:\n",
        "        if X not in G.nodes:\n",
        "            continue\n",
        "        adjsets = all_backdoor_sets_observed(X, Y, observed)\n",
        "        Z = pick_minimal_set(adjsets)\n",
        "        eff, eff_method = estimate_effect_adjusted(df, X, Y, Z)\n",
        "        sens = model_sensitivity_given_Z(m, df, Y, X, Z)\n",
        "        par = parents(G, X)\n",
        "        sdel = shuffle_delta(m, df, Y, X, par)\n",
        "        rows.append({\n",
        "            \"target\": Y,\n",
        "            \"feature\": X,\n",
        "            \"adj_set\": tuple(Z),\n",
        "            \"num_adj_candidates\": len(adjsets),\n",
        "            \"effect_adj\": eff,\n",
        "            \"effect_method\": eff_method,\n",
        "            \"model_sensitivity\": sens,\n",
        "            \"shuffle_delta\": sdel,\n",
        "            \"parents_of_feature\": tuple(par),\n",
        "        })\n",
        "    res = pd.DataFrame(rows)\n",
        "    if res.empty:\n",
        "        return res\n",
        "    # Heuristic spurious flag\n",
        "    res[\"eff_abs\"] = res[\"effect_adj\"].abs()\n",
        "    res[\"eff_abs_pct\"] = res[\"eff_abs\"].rank(pct=True)\n",
        "    res[\"sens_pct\"] = res[\"model_sensitivity\"].rank(pct=True)\n",
        "    res[\"shuffle_pct\"] = res[\"shuffle_delta\"].rank(pct=True)\n",
        "    res[\"spurious_flag\"] = (\n",
        "        (res[\"eff_abs_pct\"] <= 0.30) &\n",
        "        ((res[\"sens_pct\"] >= 0.70) | (res[\"shuffle_pct\"] >= 0.70))\n",
        "    )\n",
        "    res = res.sort_values(\n",
        "        by=[\"spurious_flag\", \"sens_pct\", \"shuffle_pct\", \"eff_abs_pct\"],\n",
        "        ascending=[False, False, False, True]\n",
        "    ).reset_index(drop=True)\n",
        "    return res"
      ],
      "metadata": {
        "id": "sJDhtR08Jz2y"
      },
      "execution_count": 19,
      "outputs": []
    },
    {
      "cell_type": "markdown",
      "source": [
        "### Results"
      ],
      "metadata": {
        "id": "JnY61jOrJZ-M"
      }
    },
    {
      "cell_type": "code",
      "source": [
        "all_results = [audit_for_target(model, df, G, tgt) for tgt in TARGETS]\n",
        "audit_table = pd.concat(all_results, ignore_index=True)\n",
        "cols_to_show = [\n",
        "    \"target\", \"feature\", \"adj_set\", \"num_adj_candidates\",\n",
        "    \"effect_adj\", \"model_sensitivity\", \"shuffle_delta\", \"spurious_flag\"\n",
        "]\n",
        "print(audit_table[cols_to_show].head(50))\n",
        "audit_table.to_csv(\"causal_audit_results_rf_only.csv\", index=False)"
      ],
      "metadata": {
        "colab": {
          "base_uri": "https://localhost:8080/"
        },
        "id": "jtApLh-2JbJE",
        "outputId": "7d778d85-4eac-4866-813f-9748b9183a15"
      },
      "execution_count": 20,
      "outputs": [
        {
          "output_type": "stream",
          "name": "stdout",
          "text": [
            "   target  feature                adj_set  num_adj_candidates   effect_adj  \\\n",
            "0    SIZE      ESM         (AQUEOUS, FRR)                  15    20.075196   \n",
            "1    SIZE      FRR         (AQUEOUS, ESM)                  11    -5.096904   \n",
            "2    SIZE     CHOL             (AQUEOUS,)                   1   -72.842841   \n",
            "3    SIZE      TFR         (AQUEOUS, PEG)                  39   146.491568   \n",
            "4    SIZE     HSPC         (AQUEOUS, PEG)                   5   -21.159840   \n",
            "5    SIZE  AQUEOUS                     ()                   1   233.515713   \n",
            "6    SIZE      PEG        (AQUEOUS, CHOL)                   1   -81.184257   \n",
            "7    SIZE      PDI           (CHOL, HSPC)                  43  4163.984943   \n",
            "8     PDI      FRR  (AQUEOUS, CHOL, HSPC)                   6     0.002231   \n",
            "9     PDI     CHOL             (AQUEOUS,)                   1    -0.026887   \n",
            "10    PDI      ESM           (CHOL, HSPC)                   8     0.010348   \n",
            "11    PDI      TFR   (AQUEOUS, PEG, SIZE)                  28    -0.075306   \n",
            "12    PDI     HSPC         (AQUEOUS, PEG)                   5     0.009072   \n",
            "13    PDI  AQUEOUS                     ()                   1     0.059920   \n",
            "14    PDI      PEG        (AQUEOUS, CHOL)                   1     0.002740   \n",
            "15    PDI     SIZE           (CHOL, HSPC)                  23     0.000095   \n",
            "\n",
            "    model_sensitivity  shuffle_delta  spurious_flag  \n",
            "0          285.938787       3.814799           True  \n",
            "1          199.168012      39.269636           True  \n",
            "2          732.379454     257.636005          False  \n",
            "3           82.464106       0.000000          False  \n",
            "4           15.936091       1.115149          False  \n",
            "5           13.337580       6.694567          False  \n",
            "6            4.655692       3.208008          False  \n",
            "7            0.000000       0.000000          False  \n",
            "8          199.168012      43.307176           True  \n",
            "9          732.379454     235.167043          False  \n",
            "10         285.938787       5.870770          False  \n",
            "11          82.464106       0.000000          False  \n",
            "12          15.936091       2.625944          False  \n",
            "13          13.337580       6.500199          False  \n",
            "14           4.655692       6.766727          False  \n",
            "15           0.000000       0.000000          False  \n"
          ]
        }
      ]
    },
    {
      "cell_type": "markdown",
      "source": [
        "**Note**. We have the following table elements:\n",
        "- `effect_adj` shows the causal effect of a feature on a target estimated via adjustment sets.\n",
        "- `model_sensitivity` shows how much the model's predictions move when a feature is perturbed.\n",
        "- `shuffle_delta` shows how much predictions change when you shuffle the feature within its parent bins (stress-test).\n",
        "- `spurious_flag` is an heuristic that evaluates to `True`if the model is very sensitive to a feature whose causal effect is estimated to be small (likely relying on spurious correlations).\n"
      ],
      "metadata": {
        "id": "snrBsZYFMigR"
      }
    },
    {
      "cell_type": "markdown",
      "source": [
        "There are 3 \"strong red flags\": SIZE<-ESM moderate effect (20) but sesnitivity is 285 and shuffle impact 3.8 which means that the model is more reactive then DAG says. Likewise SIZE<-FRR and PDI<-FRR.\n",
        "\n",
        "There are also \"good news\" looking at rows 2,3,15. The result in row 7 is ambiguous, but this is expected since sensitivity 0 likely means that the model is not using PDI at all when predicting size (but the DAG says there is a strong effect)."
      ],
      "metadata": {
        "id": "yaflaqy2NS8O"
      }
    },
    {
      "cell_type": "markdown",
      "source": [
        "**Possible next steps**\n",
        "- Mitigate removing FRR and ESM from the features or penalize the model's reliance on them\n",
        "- Run the same \"audit\" on single-target model and compare\n",
        "- Counterfactual augmentartion by generating counterfactual samples by perturbing spurious features while holding adjustment sets fixed to teach the model that those changes shouldn't alter the target\n",
        "- Balancing the dataset (if some parent-child combos are rare the model may under-learn those causal effects)\n",
        "- Intervention-style augmentation (use DAG knowledge to simulate interventions by perturbing values within realistic ranges, for spurious variables intervene but don't change the targets thus reinforcing their irrelevance)"
      ],
      "metadata": {
        "id": "UslbvtEFOJbf"
      }
    }
  ]
}